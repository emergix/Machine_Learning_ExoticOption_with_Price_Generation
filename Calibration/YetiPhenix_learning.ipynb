{
 "cells": [
  {
   "cell_type": "code",
   "execution_count": 1,
   "id": "c2d7dc1e",
   "metadata": {},
   "outputs": [],
   "source": [
    "from sys import platform\n",
    "import sys, os\n",
    "# identification de la base de prix utilisée : directory principal\n",
    "# sur ubuntu\n",
    "\n",
    "path=''\n",
    "if platform == 'win32' :\n",
    "    path ='C:\\\\Users\\\\emerg\\\\Desktop\\\\Generateprice_YetiPhoenix_VolLoc\\\\Yetiphoenix\\\\'\n",
    "# sur. mac osx\n",
    "if platform == 'darwin' :\n",
    "    path ='/Users/olivier/keras/NeuralPricing/AutoCallYetiPhoenix/'\n",
    "os.chdir(path)\n",
    "# le package identifie la methode de calibration : sous-directory"
   ]
  },
  {
   "cell_type": "code",
   "execution_count": 2,
   "id": "c082d612",
   "metadata": {},
   "outputs": [
    {
     "name": "stderr",
     "output_type": "stream",
     "text": [
      "C:\\Users\\emerg\\AppData\\Local\\Temp\\ipykernel_26080\\2554218853.py:1: DeprecationWarning: pkg_resources is deprecated as an API. See https://setuptools.pypa.io/en/latest/pkg_resources.html\n",
      "  import pip,os,pkg_resources; print(\"pip \",pip.__version__)\n"
     ]
    },
    {
     "name": "stdout",
     "output_type": "stream",
     "text": [
      "pip  25.2\n",
      "Home dir: C:\\Users\\emerg\n",
      "C:\\Users\\emerg\\AppData\\Local\\Programs\\Python\\Python312\\python.exe\n",
      "keras  3.6.0\n",
      "tensorflow  2.18.0\n"
     ]
    }
   ],
   "source": [
    "import pip,os,pkg_resources; print(\"pip \",pip.__version__)\n",
    "# méthode portable\n",
    "home = os.path.expanduser(\"~\")\n",
    "print(\"Home dir:\", home)\n",
    "\n",
    "print(sys.executable)\n",
    "\n",
    "from importlib.metadata import packages_distributions\n",
    "\n",
    "dists =packages_distributions()\n",
    "import numpy as np\n",
    "from scipy.interpolate import interp1d\n",
    "import keras\n",
    "print(\"keras \",keras.__version__)\n",
    "import tensorflow as tf\n",
    "print(\"tensorflow \",tf.__version__)"
   ]
  },
  {
   "cell_type": "code",
   "execution_count": 3,
   "id": "1a853487",
   "metadata": {},
   "outputs": [],
   "source": [
    "from math import sqrt, exp, log, erf,floor\n",
    "import numpy \n",
    "import pandas\n",
    "from decimal import *\n",
    "import matplotlib\n",
    "import matplotlib.pyplot as pyplot\n",
    "from matplotlib import cm\n",
    "from matplotlib.ticker import LinearLocator, FormatStrFormatter\n",
    "import mpl_toolkits\n",
    "from mpl_toolkits.mplot3d import axes3d\n",
    "from mpl_toolkits.mplot3d.axes3d import Axes3D\n",
    "\n",
    "from sklearn import preprocessing\n",
    "from sklearn import model_selection\n",
    "\n",
    "import joblib\n",
    "import seaborn as sns\n",
    "import scipy\n",
    "from IPython.display import display\n",
    "import time\n",
    "import tensorflow as tf\n",
    "%matplotlib inline\n",
    "getcontext().prec = 8\n",
    "\n",
    "from IPython.display import display\n",
    "from __future__ import print_function\n",
    "from ipywidgets import interact, interactive, fixed, interact_manual,FloatProgress\n",
    "import ipywidgets as widgets\n",
    "import time\n",
    "\n",
    "getcontext().prec = 8"
   ]
  },
  {
   "cell_type": "code",
   "execution_count": 4,
   "id": "61fffbc6",
   "metadata": {},
   "outputs": [],
   "source": [
    "from importlib import reload\n",
    "import train_pytorch_customizable_notebook as t\n",
    "reload(t)\n",
    "from train_pytorch_customizable_notebook import TrainConfig, run_training_with_loaders,metaparameters"
   ]
  },
  {
   "cell_type": "code",
   "execution_count": 5,
   "id": "35b0f14c",
   "metadata": {},
   "outputs": [],
   "source": [
    "params=metaparameters()\n",
    "params.INPUT_DIM  = 23\n",
    "params.INPUT_GOAL = 24"
   ]
  },
  {
   "cell_type": "code",
   "execution_count": 6,
   "id": "4e49a65a",
   "metadata": {},
   "outputs": [],
   "source": [
    "import pandas as pd\n",
    "import numpy as np\n",
    "\n",
    "def load_multiple_data(datafiles, params):\n",
    "    \"\"\"\n",
    "    Charge plusieurs fichiers (CSV ou Excel) et les concatène.\n",
    "    Retourne X_rough et Y_rough.\n",
    "    \"\"\"\n",
    "    dfs = []\n",
    "    for f in datafiles:\n",
    "        if f.lower().endswith(\".csv\"):\n",
    "            df = pd.read_csv(f, sep=\",\", decimal=\".\", header=None)\n",
    "        elif f.lower().endswith((\".xls\", \".xlsx\")):\n",
    "            df = pd.read_excel(f, header=None)\n",
    "        else:\n",
    "            raise ValueError(f\"Format non supporté pour {f}\")\n",
    "        dfs.append(df)\n",
    "\n",
    "    # concatène toutes les données verticalement\n",
    "    dataframe = pd.concat(dfs, ignore_index=True)\n",
    "\n",
    "    dataset = dataframe.values\n",
    "    X_rough = dataset[1:, 1:params.INPUT_DIM+1]\n",
    "    Y_rough = dataset[1:, params.INPUT_GOAL]\n",
    "\n",
    "    return X_rough, Y_rough\n"
   ]
  },
  {
   "cell_type": "code",
   "execution_count": 7,
   "id": "5290c67a",
   "metadata": {},
   "outputs": [
    {
     "name": "stdout",
     "output_type": "stream",
     "text": [
      "(24999, 23) (24999,)\n"
     ]
    }
   ],
   "source": [
    "datafiles = [\"Data/Learningbase1.CSV\", \"Data/Learningbase1.CSV\"]\n",
    "datafiles = [\"Data/Learningbase1_mini.CSV\"]\n",
    "X_rough, Y_rough = load_multiple_data(datafiles, params)\n",
    "\n",
    "print(X_rough.shape, Y_rough.shape)"
   ]
  },
  {
   "cell_type": "code",
   "execution_count": 8,
   "id": "3817a429",
   "metadata": {},
   "outputs": [],
   "source": [
    "import torch\n",
    "from torch.utils.data import TensorDataset, random_split, DataLoader\n",
    "\n",
    "X = torch.tensor(X_rough, dtype=torch.float32)\n",
    "y = torch.tensor(Y_rough, dtype=torch.float32)\n",
    "\n",
    "dataset = TensorDataset(X, y)\n",
    "n = len(dataset); n_train = int(0.9 * n); n_test = n - n_train\n",
    "train_ds, test_ds = random_split(dataset, [n_train, n_test])\n",
    "\n",
    "train_loader = DataLoader(train_ds, batch_size=64, shuffle=True)\n",
    "test_loader  = DataLoader(test_ds,  batch_size=64)"
   ]
  },
  {
   "cell_type": "code",
   "execution_count": 9,
   "id": "a7bd92ee",
   "metadata": {},
   "outputs": [
    {
     "name": "stdout",
     "output_type": "stream",
     "text": [
      "MLP(\n",
      "  (net): Sequential(\n",
      "    (0): Linear(in_features=23, out_features=5120, bias=True)\n",
      "    (1): BatchNorm1d(5120, eps=1e-05, momentum=0.1, affine=True, track_running_stats=True)\n",
      "    (2): ReLU()\n",
      "    (3): Linear(in_features=5120, out_features=2560, bias=True)\n",
      "    (4): BatchNorm1d(2560, eps=1e-05, momentum=0.1, affine=True, track_running_stats=True)\n",
      "    (5): ReLU()\n",
      "    (6): Linear(in_features=2560, out_features=1280, bias=True)\n",
      "    (7): BatchNorm1d(1280, eps=1e-05, momentum=0.1, affine=True, track_running_stats=True)\n",
      "    (8): ReLU()\n",
      "    (9): Linear(in_features=1280, out_features=640, bias=True)\n",
      "    (10): BatchNorm1d(640, eps=1e-05, momentum=0.1, affine=True, track_running_stats=True)\n",
      "    (11): ReLU()\n",
      "    (12): Linear(in_features=640, out_features=320, bias=True)\n",
      "    (13): BatchNorm1d(320, eps=1e-05, momentum=0.1, affine=True, track_running_stats=True)\n",
      "    (14): ReLU()\n",
      "    (15): Linear(in_features=320, out_features=160, bias=True)\n",
      "    (16): BatchNorm1d(160, eps=1e-05, momentum=0.1, affine=True, track_running_stats=True)\n",
      "    (17): ReLU()\n",
      "    (18): Linear(in_features=160, out_features=80, bias=True)\n",
      "    (19): BatchNorm1d(80, eps=1e-05, momentum=0.1, affine=True, track_running_stats=True)\n",
      "    (20): ReLU()\n",
      "    (21): Linear(in_features=80, out_features=40, bias=True)\n",
      "    (22): BatchNorm1d(40, eps=1e-05, momentum=0.1, affine=True, track_running_stats=True)\n",
      "    (23): ReLU()\n",
      "    (24): Linear(in_features=40, out_features=1, bias=True)\n",
      "  )\n",
      ")\n",
      "GPU: NVIDIA GeForce RTX 4090  |  batches/train: 352  val: 40\n",
      "Training on cuda for 50 epochs.\n",
      "\n"
     ]
    },
    {
     "data": {
      "application/vnd.jupyter.widget-view+json": {
       "model_id": "",
       "version_major": 2,
       "version_minor": 0
      },
      "text/plain": [
       "Epoch 1/50 [train]:   0%|          | 0/352 [00:00<?, ?it/s]"
      ]
     },
     "metadata": {},
     "output_type": "display_data"
    },
    {
     "name": "stdout",
     "output_type": "stream",
     "text": [
      "{'epoch': 1, 'train_loss': 0.013991, 'val_loss': 0.001464, 'epoch_time_sec': 2.9, 'mse': 0.001494652358815074, 'mae': 0.02915116585791111, 'rmse': 0.03866073406979068}\n"
     ]
    },
    {
     "data": {
      "application/vnd.jupyter.widget-view+json": {
       "model_id": "",
       "version_major": 2,
       "version_minor": 0
      },
      "text/plain": [
       "Epoch 2/50 [train]:   0%|          | 0/352 [00:00<?, ?it/s]"
      ]
     },
     "metadata": {},
     "output_type": "display_data"
    },
    {
     "name": "stdout",
     "output_type": "stream",
     "text": [
      "{'epoch': 2, 'train_loss': 0.001158, 'val_loss': 0.001049, 'epoch_time_sec': 2.85, 'mse': 0.0010700769489631057, 'mae': 0.024155257269740105, 'rmse': 0.032712030645667745}\n"
     ]
    },
    {
     "data": {
      "application/vnd.jupyter.widget-view+json": {
       "model_id": "",
       "version_major": 2,
       "version_minor": 0
      },
      "text/plain": [
       "Epoch 3/50 [train]:   0%|          | 0/352 [00:00<?, ?it/s]"
      ]
     },
     "metadata": {},
     "output_type": "display_data"
    },
    {
     "data": {
      "application/vnd.jupyter.widget-view+json": {
       "model_id": "",
       "version_major": 2,
       "version_minor": 0
      },
      "text/plain": [
       "Epoch 4/50 [train]:   0%|          | 0/352 [00:00<?, ?it/s]"
      ]
     },
     "metadata": {},
     "output_type": "display_data"
    },
    {
     "name": "stdout",
     "output_type": "stream",
     "text": [
      "{'epoch': 4, 'train_loss': 0.000709, 'val_loss': 0.000626, 'epoch_time_sec': 2.71, 'mse': 0.0006381082348525524, 'mae': 0.018271373584866524, 'rmse': 0.025260804319192854}\n"
     ]
    },
    {
     "data": {
      "application/vnd.jupyter.widget-view+json": {
       "model_id": "",
       "version_major": 2,
       "version_minor": 0
      },
      "text/plain": [
       "Epoch 5/50 [train]:   0%|          | 0/352 [00:00<?, ?it/s]"
      ]
     },
     "metadata": {},
     "output_type": "display_data"
    },
    {
     "data": {
      "application/vnd.jupyter.widget-view+json": {
       "model_id": "",
       "version_major": 2,
       "version_minor": 0
      },
      "text/plain": [
       "Epoch 6/50 [train]:   0%|          | 0/352 [00:00<?, ?it/s]"
      ]
     },
     "metadata": {},
     "output_type": "display_data"
    },
    {
     "name": "stdout",
     "output_type": "stream",
     "text": [
      "{'epoch': 6, 'train_loss': 0.000552, 'val_loss': 0.000487, 'epoch_time_sec': 2.68, 'mse': 0.0004911741707473993, 'mae': 0.01638377457857132, 'rmse': 0.022162449565591782}\n"
     ]
    },
    {
     "data": {
      "application/vnd.jupyter.widget-view+json": {
       "model_id": "",
       "version_major": 2,
       "version_minor": 0
      },
      "text/plain": [
       "Epoch 7/50 [train]:   0%|          | 0/352 [00:00<?, ?it/s]"
      ]
     },
     "metadata": {},
     "output_type": "display_data"
    },
    {
     "data": {
      "application/vnd.jupyter.widget-view+json": {
       "model_id": "",
       "version_major": 2,
       "version_minor": 0
      },
      "text/plain": [
       "Epoch 8/50 [train]:   0%|          | 0/352 [00:00<?, ?it/s]"
      ]
     },
     "metadata": {},
     "output_type": "display_data"
    },
    {
     "name": "stdout",
     "output_type": "stream",
     "text": [
      "{'epoch': 8, 'train_loss': 0.000449, 'val_loss': 0.0004, 'epoch_time_sec': 2.75, 'mse': 0.0003929214144591242, 'mae': 0.013888688758015633, 'rmse': 0.019822245444427435}\n"
     ]
    },
    {
     "data": {
      "application/vnd.jupyter.widget-view+json": {
       "model_id": "",
       "version_major": 2,
       "version_minor": 0
      },
      "text/plain": [
       "Epoch 9/50 [train]:   0%|          | 0/352 [00:00<?, ?it/s]"
      ]
     },
     "metadata": {},
     "output_type": "display_data"
    },
    {
     "data": {
      "application/vnd.jupyter.widget-view+json": {
       "model_id": "",
       "version_major": 2,
       "version_minor": 0
      },
      "text/plain": [
       "Epoch 10/50 [train]:   0%|          | 0/352 [00:00<?, ?it/s]"
      ]
     },
     "metadata": {},
     "output_type": "display_data"
    },
    {
     "name": "stdout",
     "output_type": "stream",
     "text": [
      "{'epoch': 10, 'train_loss': 0.000414, 'val_loss': 0.000301, 'epoch_time_sec': 2.76, 'mse': 0.0003022216842509806, 'mae': 0.012472040951251984, 'rmse': 0.017384524274508654}\n"
     ]
    },
    {
     "data": {
      "application/vnd.jupyter.widget-view+json": {
       "model_id": "",
       "version_major": 2,
       "version_minor": 0
      },
      "text/plain": [
       "Epoch 11/50 [train]:   0%|          | 0/352 [00:00<?, ?it/s]"
      ]
     },
     "metadata": {},
     "output_type": "display_data"
    },
    {
     "data": {
      "application/vnd.jupyter.widget-view+json": {
       "model_id": "",
       "version_major": 2,
       "version_minor": 0
      },
      "text/plain": [
       "Epoch 12/50 [train]:   0%|          | 0/352 [00:00<?, ?it/s]"
      ]
     },
     "metadata": {},
     "output_type": "display_data"
    },
    {
     "name": "stdout",
     "output_type": "stream",
     "text": [
      "{'epoch': 12, 'train_loss': 0.000373, 'val_loss': 0.000229, 'epoch_time_sec': 2.85, 'mse': 0.0002303231303812936, 'mae': 0.009802740067243576, 'rmse': 0.015176400442176451}\n"
     ]
    },
    {
     "data": {
      "application/vnd.jupyter.widget-view+json": {
       "model_id": "",
       "version_major": 2,
       "version_minor": 0
      },
      "text/plain": [
       "Epoch 13/50 [train]:   0%|          | 0/352 [00:00<?, ?it/s]"
      ]
     },
     "metadata": {},
     "output_type": "display_data"
    },
    {
     "data": {
      "application/vnd.jupyter.widget-view+json": {
       "model_id": "",
       "version_major": 2,
       "version_minor": 0
      },
      "text/plain": [
       "Epoch 14/50 [train]:   0%|          | 0/352 [00:00<?, ?it/s]"
      ]
     },
     "metadata": {},
     "output_type": "display_data"
    },
    {
     "name": "stdout",
     "output_type": "stream",
     "text": [
      "{'epoch': 14, 'train_loss': 0.00032, 'val_loss': 0.000258, 'epoch_time_sec': 2.19, 'mse': 0.000256941479165107, 'mae': 0.011456196196377277, 'rmse': 0.016029394223273288}\n"
     ]
    },
    {
     "data": {
      "application/vnd.jupyter.widget-view+json": {
       "model_id": "",
       "version_major": 2,
       "version_minor": 0
      },
      "text/plain": [
       "Epoch 15/50 [train]:   0%|          | 0/352 [00:00<?, ?it/s]"
      ]
     },
     "metadata": {},
     "output_type": "display_data"
    },
    {
     "data": {
      "application/vnd.jupyter.widget-view+json": {
       "model_id": "",
       "version_major": 2,
       "version_minor": 0
      },
      "text/plain": [
       "Epoch 16/50 [train]:   0%|          | 0/352 [00:00<?, ?it/s]"
      ]
     },
     "metadata": {},
     "output_type": "display_data"
    },
    {
     "name": "stdout",
     "output_type": "stream",
     "text": [
      "{'epoch': 16, 'train_loss': 0.000305, 'val_loss': 0.000287, 'epoch_time_sec': 2.23, 'mse': 0.0002785486576613039, 'mae': 0.011993670836091042, 'rmse': 0.0166897770404911}\n"
     ]
    },
    {
     "data": {
      "application/vnd.jupyter.widget-view+json": {
       "model_id": "",
       "version_major": 2,
       "version_minor": 0
      },
      "text/plain": [
       "Epoch 17/50 [train]:   0%|          | 0/352 [00:00<?, ?it/s]"
      ]
     },
     "metadata": {},
     "output_type": "display_data"
    },
    {
     "data": {
      "application/vnd.jupyter.widget-view+json": {
       "model_id": "",
       "version_major": 2,
       "version_minor": 0
      },
      "text/plain": [
       "Epoch 18/50 [train]:   0%|          | 0/352 [00:00<?, ?it/s]"
      ]
     },
     "metadata": {},
     "output_type": "display_data"
    },
    {
     "name": "stdout",
     "output_type": "stream",
     "text": [
      "{'epoch': 18, 'train_loss': 0.000325, 'val_loss': 0.000187, 'epoch_time_sec': 2.83, 'mse': 0.00018676815670914948, 'mae': 0.010344376787543297, 'rmse': 0.013666314671818057}\n"
     ]
    },
    {
     "data": {
      "application/vnd.jupyter.widget-view+json": {
       "model_id": "",
       "version_major": 2,
       "version_minor": 0
      },
      "text/plain": [
       "Epoch 19/50 [train]:   0%|          | 0/352 [00:00<?, ?it/s]"
      ]
     },
     "metadata": {},
     "output_type": "display_data"
    },
    {
     "data": {
      "application/vnd.jupyter.widget-view+json": {
       "model_id": "",
       "version_major": 2,
       "version_minor": 0
      },
      "text/plain": [
       "Epoch 20/50 [train]:   0%|          | 0/352 [00:00<?, ?it/s]"
      ]
     },
     "metadata": {},
     "output_type": "display_data"
    },
    {
     "name": "stdout",
     "output_type": "stream",
     "text": [
      "{'epoch': 20, 'train_loss': 0.000309, 'val_loss': 0.000205, 'epoch_time_sec': 2.31, 'mse': 0.00020419225620571524, 'mae': 0.009971858002245426, 'rmse': 0.014289585585513501}\n"
     ]
    },
    {
     "data": {
      "application/vnd.jupyter.widget-view+json": {
       "model_id": "",
       "version_major": 2,
       "version_minor": 0
      },
      "text/plain": [
       "Epoch 21/50 [train]:   0%|          | 0/352 [00:00<?, ?it/s]"
      ]
     },
     "metadata": {},
     "output_type": "display_data"
    },
    {
     "data": {
      "application/vnd.jupyter.widget-view+json": {
       "model_id": "",
       "version_major": 2,
       "version_minor": 0
      },
      "text/plain": [
       "Epoch 22/50 [train]:   0%|          | 0/352 [00:00<?, ?it/s]"
      ]
     },
     "metadata": {},
     "output_type": "display_data"
    },
    {
     "name": "stdout",
     "output_type": "stream",
     "text": [
      "{'epoch': 22, 'train_loss': 0.000297, 'val_loss': 0.000263, 'epoch_time_sec': 2.29, 'mse': 0.00026457448257133365, 'mae': 0.011163096874952316, 'rmse': 0.016265745681380048}\n"
     ]
    },
    {
     "data": {
      "application/vnd.jupyter.widget-view+json": {
       "model_id": "",
       "version_major": 2,
       "version_minor": 0
      },
      "text/plain": [
       "Epoch 23/50 [train]:   0%|          | 0/352 [00:00<?, ?it/s]"
      ]
     },
     "metadata": {},
     "output_type": "display_data"
    },
    {
     "data": {
      "application/vnd.jupyter.widget-view+json": {
       "model_id": "",
       "version_major": 2,
       "version_minor": 0
      },
      "text/plain": [
       "Epoch 24/50 [train]:   0%|          | 0/352 [00:00<?, ?it/s]"
      ]
     },
     "metadata": {},
     "output_type": "display_data"
    },
    {
     "name": "stdout",
     "output_type": "stream",
     "text": [
      "{'epoch': 24, 'train_loss': 0.000272, 'val_loss': 0.000156, 'epoch_time_sec': 2.23, 'mse': 0.0001562550023663789, 'mae': 0.00856945663690567, 'rmse': 0.012500200093053667}\n"
     ]
    },
    {
     "data": {
      "application/vnd.jupyter.widget-view+json": {
       "model_id": "",
       "version_major": 2,
       "version_minor": 0
      },
      "text/plain": [
       "Epoch 25/50 [train]:   0%|          | 0/352 [00:00<?, ?it/s]"
      ]
     },
     "metadata": {},
     "output_type": "display_data"
    },
    {
     "data": {
      "application/vnd.jupyter.widget-view+json": {
       "model_id": "",
       "version_major": 2,
       "version_minor": 0
      },
      "text/plain": [
       "Epoch 26/50 [train]:   0%|          | 0/352 [00:00<?, ?it/s]"
      ]
     },
     "metadata": {},
     "output_type": "display_data"
    },
    {
     "name": "stdout",
     "output_type": "stream",
     "text": [
      "{'epoch': 26, 'train_loss': 0.00029, 'val_loss': 0.000328, 'epoch_time_sec': 2.18, 'mse': 0.00031916648731566966, 'mae': 0.011973024345934391, 'rmse': 0.017865231241595215}\n"
     ]
    },
    {
     "data": {
      "application/vnd.jupyter.widget-view+json": {
       "model_id": "",
       "version_major": 2,
       "version_minor": 0
      },
      "text/plain": [
       "Epoch 27/50 [train]:   0%|          | 0/352 [00:00<?, ?it/s]"
      ]
     },
     "metadata": {},
     "output_type": "display_data"
    },
    {
     "data": {
      "application/vnd.jupyter.widget-view+json": {
       "model_id": "",
       "version_major": 2,
       "version_minor": 0
      },
      "text/plain": [
       "Epoch 28/50 [train]:   0%|          | 0/352 [00:00<?, ?it/s]"
      ]
     },
     "metadata": {},
     "output_type": "display_data"
    },
    {
     "name": "stdout",
     "output_type": "stream",
     "text": [
      "{'epoch': 28, 'train_loss': 0.000264, 'val_loss': 0.000258, 'epoch_time_sec': 2.17, 'mse': 0.00025440615718252957, 'mae': 0.011371797882020473, 'rmse': 0.015950114644808343}\n"
     ]
    },
    {
     "data": {
      "application/vnd.jupyter.widget-view+json": {
       "model_id": "",
       "version_major": 2,
       "version_minor": 0
      },
      "text/plain": [
       "Epoch 29/50 [train]:   0%|          | 0/352 [00:00<?, ?it/s]"
      ]
     },
     "metadata": {},
     "output_type": "display_data"
    },
    {
     "data": {
      "application/vnd.jupyter.widget-view+json": {
       "model_id": "",
       "version_major": 2,
       "version_minor": 0
      },
      "text/plain": [
       "Epoch 30/50 [train]:   0%|          | 0/352 [00:00<?, ?it/s]"
      ]
     },
     "metadata": {},
     "output_type": "display_data"
    },
    {
     "name": "stdout",
     "output_type": "stream",
     "text": [
      "{'epoch': 30, 'train_loss': 0.000282, 'val_loss': 0.000242, 'epoch_time_sec': 2.17, 'mse': 0.00024301318626385182, 'mae': 0.009801146574318409, 'rmse': 0.015588880211992515}\n"
     ]
    },
    {
     "data": {
      "application/vnd.jupyter.widget-view+json": {
       "model_id": "",
       "version_major": 2,
       "version_minor": 0
      },
      "text/plain": [
       "Epoch 31/50 [train]:   0%|          | 0/352 [00:00<?, ?it/s]"
      ]
     },
     "metadata": {},
     "output_type": "display_data"
    },
    {
     "data": {
      "application/vnd.jupyter.widget-view+json": {
       "model_id": "",
       "version_major": 2,
       "version_minor": 0
      },
      "text/plain": [
       "Epoch 32/50 [train]:   0%|          | 0/352 [00:00<?, ?it/s]"
      ]
     },
     "metadata": {},
     "output_type": "display_data"
    },
    {
     "name": "stdout",
     "output_type": "stream",
     "text": [
      "{'epoch': 32, 'train_loss': 0.000233, 'val_loss': 0.000202, 'epoch_time_sec': 2.17, 'mse': 0.00020264230261091143, 'mae': 0.009677344001829624, 'rmse': 0.014235248596737306}\n"
     ]
    },
    {
     "data": {
      "application/vnd.jupyter.widget-view+json": {
       "model_id": "",
       "version_major": 2,
       "version_minor": 0
      },
      "text/plain": [
       "Epoch 33/50 [train]:   0%|          | 0/352 [00:00<?, ?it/s]"
      ]
     },
     "metadata": {},
     "output_type": "display_data"
    },
    {
     "data": {
      "application/vnd.jupyter.widget-view+json": {
       "model_id": "",
       "version_major": 2,
       "version_minor": 0
      },
      "text/plain": [
       "Epoch 34/50 [train]:   0%|          | 0/352 [00:00<?, ?it/s]"
      ]
     },
     "metadata": {},
     "output_type": "display_data"
    },
    {
     "name": "stdout",
     "output_type": "stream",
     "text": [
      "{'epoch': 34, 'train_loss': 0.000244, 'val_loss': 0.000236, 'epoch_time_sec': 2.16, 'mse': 0.00023018167121335864, 'mae': 0.010076701641082764, 'rmse': 0.01517173922836003}\n"
     ]
    },
    {
     "data": {
      "application/vnd.jupyter.widget-view+json": {
       "model_id": "",
       "version_major": 2,
       "version_minor": 0
      },
      "text/plain": [
       "Epoch 35/50 [train]:   0%|          | 0/352 [00:00<?, ?it/s]"
      ]
     },
     "metadata": {},
     "output_type": "display_data"
    },
    {
     "data": {
      "application/vnd.jupyter.widget-view+json": {
       "model_id": "",
       "version_major": 2,
       "version_minor": 0
      },
      "text/plain": [
       "Epoch 36/50 [train]:   0%|          | 0/352 [00:00<?, ?it/s]"
      ]
     },
     "metadata": {},
     "output_type": "display_data"
    },
    {
     "name": "stdout",
     "output_type": "stream",
     "text": [
      "{'epoch': 36, 'train_loss': 0.000229, 'val_loss': 0.000215, 'epoch_time_sec': 2.12, 'mse': 0.00021642360661644489, 'mae': 0.010350237600505352, 'rmse': 0.0147113427876739}\n"
     ]
    },
    {
     "data": {
      "application/vnd.jupyter.widget-view+json": {
       "model_id": "",
       "version_major": 2,
       "version_minor": 0
      },
      "text/plain": [
       "Epoch 37/50 [train]:   0%|          | 0/352 [00:00<?, ?it/s]"
      ]
     },
     "metadata": {},
     "output_type": "display_data"
    },
    {
     "data": {
      "application/vnd.jupyter.widget-view+json": {
       "model_id": "",
       "version_major": 2,
       "version_minor": 0
      },
      "text/plain": [
       "Epoch 38/50 [train]:   0%|          | 0/352 [00:00<?, ?it/s]"
      ]
     },
     "metadata": {},
     "output_type": "display_data"
    },
    {
     "name": "stdout",
     "output_type": "stream",
     "text": [
      "{'epoch': 38, 'train_loss': 0.000234, 'val_loss': 0.000353, 'epoch_time_sec': 2.2, 'mse': 0.0003443441237322986, 'mae': 0.012105506844818592, 'rmse': 0.018556511626173132}\n"
     ]
    },
    {
     "data": {
      "application/vnd.jupyter.widget-view+json": {
       "model_id": "",
       "version_major": 2,
       "version_minor": 0
      },
      "text/plain": [
       "Epoch 39/50 [train]:   0%|          | 0/352 [00:00<?, ?it/s]"
      ]
     },
     "metadata": {},
     "output_type": "display_data"
    },
    {
     "data": {
      "application/vnd.jupyter.widget-view+json": {
       "model_id": "",
       "version_major": 2,
       "version_minor": 0
      },
      "text/plain": [
       "Epoch 40/50 [train]:   0%|          | 0/352 [00:00<?, ?it/s]"
      ]
     },
     "metadata": {},
     "output_type": "display_data"
    },
    {
     "name": "stdout",
     "output_type": "stream",
     "text": [
      "{'epoch': 40, 'train_loss': 0.000231, 'val_loss': 0.00027, 'epoch_time_sec': 2.25, 'mse': 0.00027137051802128553, 'mae': 0.010388505645096302, 'rmse': 0.016473327472653652}\n"
     ]
    },
    {
     "data": {
      "application/vnd.jupyter.widget-view+json": {
       "model_id": "",
       "version_major": 2,
       "version_minor": 0
      },
      "text/plain": [
       "Epoch 41/50 [train]:   0%|          | 0/352 [00:00<?, ?it/s]"
      ]
     },
     "metadata": {},
     "output_type": "display_data"
    },
    {
     "name": "stdout",
     "output_type": "stream",
     "text": [
      "Early stopping: no improvement for 10 epochs.\n",
      "Done. Best metric: 0.011545836522874374\n",
      "Total training time: 00:01:38  (98.49s)\n",
      "Checkpoints saved to: C:\\Users\\emerg\\Desktop\\Generateprice_YetiPhoenix_VolLoc\\Yetiphoenix\\outputs\\run1 (best.pt, last.pt)\n"
     ]
    },
    {
     "ename": "NameError",
     "evalue": "name 'compute_feature_stats_from_loader' is not defined",
     "output_type": "error",
     "traceback": [
      "\u001b[1;31m---------------------------------------------------------------------------\u001b[0m",
      "\u001b[1;31mNameError\u001b[0m                                 Traceback (most recent call last)",
      "Cell \u001b[1;32mIn[9], line 18\u001b[0m\n\u001b[0;32m      5\u001b[0m NB_NEURON_PRINCIPAL \u001b[38;5;241m=\u001b[39m\u001b[38;5;241m20\u001b[39m\n\u001b[0;32m      6\u001b[0m cfg \u001b[38;5;241m=\u001b[39m TrainConfig(\n\u001b[0;32m      7\u001b[0m     model\u001b[38;5;241m=\u001b[39m\u001b[38;5;124m\"\u001b[39m\u001b[38;5;124mmlp\u001b[39m\u001b[38;5;124m\"\u001b[39m,\n\u001b[0;32m      8\u001b[0m     mlp_dims\u001b[38;5;241m=\u001b[39m[\u001b[38;5;241m256\u001b[39m\u001b[38;5;241m*\u001b[39mNB_NEURON_PRINCIPAL,\u001b[38;5;241m128\u001b[39m\u001b[38;5;241m*\u001b[39mNB_NEURON_PRINCIPAL,\u001b[38;5;241m64\u001b[39m\u001b[38;5;241m*\u001b[39mNB_NEURON_PRINCIPAL,\u001b[38;5;241m32\u001b[39m\u001b[38;5;241m*\u001b[39mNB_NEURON_PRINCIPAL,\n\u001b[1;32m   (...)\u001b[0m\n\u001b[0;32m     15\u001b[0m     nb_intermediary_epoch\u001b[38;5;241m=\u001b[39m\u001b[38;5;241m2\u001b[39m   \u001b[38;5;66;03m# affiche tous les 10 epochs\u001b[39;00m\n\u001b[0;32m     16\u001b[0m )\n\u001b[1;32m---> 18\u001b[0m results \u001b[38;5;241m=\u001b[39m \u001b[43mrun_training_with_loaders\u001b[49m\u001b[43m(\u001b[49m\u001b[43mcfg\u001b[49m\u001b[43m,\u001b[49m\u001b[43m \u001b[49m\u001b[43mtrain_loader\u001b[49m\u001b[43m,\u001b[49m\u001b[43m \u001b[49m\u001b[43mtest_loader\u001b[49m\u001b[43m)\u001b[49m\n",
      "File \u001b[1;32m~\\Desktop\\Generateprice_YetiPhoenix_VolLoc\\Yetiphoenix\\train_pytorch_customizable_notebook.py:966\u001b[0m, in \u001b[0;36mrun_training_with_loaders\u001b[1;34m(cfg, train_loader, val_loader, input_size, out_features)\u001b[0m\n\u001b[0;32m    964\u001b[0m \u001b[38;5;28mprint\u001b[39m(\u001b[38;5;124mf\u001b[39m\u001b[38;5;124m\"\u001b[39m\u001b[38;5;124mCheckpoints saved to: \u001b[39m\u001b[38;5;132;01m{\u001b[39;00mout_dir\u001b[38;5;241m.\u001b[39mresolve()\u001b[38;5;132;01m}\u001b[39;00m\u001b[38;5;124m (best.pt, last.pt)\u001b[39m\u001b[38;5;124m\"\u001b[39m)\n\u001b[0;32m    965\u001b[0m \u001b[38;5;28;01mif\u001b[39;00m \u001b[38;5;28mgetattr\u001b[39m(cfg, \u001b[38;5;124m\"\u001b[39m\u001b[38;5;124mexport_bundle\u001b[39m\u001b[38;5;124m\"\u001b[39m, \u001b[38;5;28;01mTrue\u001b[39;00m):\n\u001b[1;32m--> 966\u001b[0m     feature_stats \u001b[38;5;241m=\u001b[39m \u001b[43mcompute_feature_stats_from_loader\u001b[49m(train_loader)\n\u001b[0;32m    967\u001b[0m     save_training_bundle(\n\u001b[0;32m    968\u001b[0m         out_dir\u001b[38;5;241m=\u001b[39mout_dir,\n\u001b[0;32m    969\u001b[0m         model\u001b[38;5;241m=\u001b[39mmodel,\n\u001b[1;32m   (...)\u001b[0m\n\u001b[0;32m    977\u001b[0m         tag\u001b[38;5;241m=\u001b[39m\u001b[38;5;124m\"\u001b[39m\u001b[38;5;124mbest\u001b[39m\u001b[38;5;124m\"\u001b[39m\n\u001b[0;32m    978\u001b[0m     )\n\u001b[0;32m    979\u001b[0m \u001b[38;5;28;01mreturn\u001b[39;00m {\n\u001b[0;32m    980\u001b[0m     \u001b[38;5;124m\"\u001b[39m\u001b[38;5;124mbest_metric\u001b[39m\u001b[38;5;124m\"\u001b[39m: \u001b[38;5;28mfloat\u001b[39m(state\u001b[38;5;241m.\u001b[39mbest_metric),\n\u001b[0;32m    981\u001b[0m     \u001b[38;5;124m\"\u001b[39m\u001b[38;5;124mout_dir\u001b[39m\u001b[38;5;124m\"\u001b[39m: \u001b[38;5;28mstr\u001b[39m(out_dir\u001b[38;5;241m.\u001b[39mresolve()),\n\u001b[1;32m   (...)\u001b[0m\n\u001b[0;32m    991\u001b[0m     \u001b[38;5;124m\"\u001b[39m\u001b[38;5;124mstate\u001b[39m\u001b[38;5;124m\"\u001b[39m: state,\n\u001b[0;32m    992\u001b[0m }\n",
      "\u001b[1;31mNameError\u001b[0m: name 'compute_feature_stats_from_loader' is not defined"
     ]
    }
   ],
   "source": [
    "from importlib import reload\n",
    "import train_pytorch_customizable_notebook as t\n",
    "reload(t)\n",
    "from train_pytorch_customizable_notebook import TrainConfig, run_training_with_loaders\n",
    "NB_NEURON_PRINCIPAL =20\n",
    "cfg = TrainConfig(\n",
    "    model=\"mlp\",\n",
    "    mlp_dims=[256*NB_NEURON_PRINCIPAL,128*NB_NEURON_PRINCIPAL,64*NB_NEURON_PRINCIPAL,32*NB_NEURON_PRINCIPAL,\n",
    "              16*NB_NEURON_PRINCIPAL,8*NB_NEURON_PRINCIPAL,4*NB_NEURON_PRINCIPAL,2*NB_NEURON_PRINCIPAL],\n",
    "    loss=\"mse\",\n",
    "    epochs=50,\n",
    "    lr=1e-3,\n",
    "    out_dir=\"outputs/run1\",\n",
    "    device=\"cuda\",\n",
    "    nb_intermediary_epoch=2   # affiche tous les 10 epochs\n",
    ")\n",
    "\n",
    "results = run_training_with_loaders(cfg, train_loader, test_loader)"
   ]
  },
  {
   "cell_type": "code",
   "execution_count": null,
   "id": "b2b909ef",
   "metadata": {},
   "outputs": [],
   "source": [
    "import json, torch\n",
    "from pathlib import Path\n",
    "from dataclasses import asdict, is_dataclass\n",
    "\n",
    "def _to_serializable_cfg(cfg):\n",
    "    # dataclass -> dict (ou dict si déjà dict)\n",
    "    if is_dataclass(cfg):\n",
    "        d = asdict(cfg)\n",
    "    elif isinstance(cfg, dict):\n",
    "        d = dict(cfg)\n",
    "    else:\n",
    "        # objet \"config\" simple : on prend son __dict__\n",
    "        d = {k: getattr(cfg, k) for k in dir(cfg) if not k.startswith(\"_\") and not callable(getattr(cfg, k))}\n",
    "    # supprime objets non-JSON (ex: device)\n",
    "    for k in list(d.keys()):\n",
    "        try:\n",
    "            json.dumps(d[k])\n",
    "        except TypeError:\n",
    "            d[k] = str(d[k])\n",
    "    return d\n",
    "\n",
    "def save_training_bundle(\n",
    "    out_dir: str | Path,\n",
    "    model: torch.nn.Module,\n",
    "    optimizer,\n",
    "    scheduler,\n",
    "    state,                    # ton TrainState\n",
    "    cfg,                      # TrainConfig (ou dict)\n",
    "    input_size: int,\n",
    "    out_features: int,\n",
    "    feature_stats: dict | None = None,  # ex: {\"mean\": list, \"std\": list}\n",
    "    tag: str = \"best\"                  # \"best\" ou \"last\"\n",
    "):\n",
    "    out_dir = Path(out_dir)\n",
    "    out_dir.mkdir(parents=True, exist_ok=True)\n",
    "\n",
    "    # 1) checkpoint “classique” (déjà fait par ton runner, mais on le refait si besoin)\n",
    "    torch.save({\n",
    "        \"model\": model.state_dict(),\n",
    "        \"optimizer\": optimizer.state_dict() if optimizer else None,\n",
    "        \"scheduler\": scheduler.state_dict() if scheduler else None,\n",
    "        \"state\": asdict(state) if is_dataclass(state) else dict(state),\n",
    "    }, out_dir / f\"{tag}.pt\")\n",
    "\n",
    "    # 2) config + meta (JSON)\n",
    "    with open(out_dir / \"config.json\", \"w\", encoding=\"utf-8\") as f:\n",
    "        json.dump(_to_serializable_cfg(cfg), f, indent=2)\n",
    "    meta = {\n",
    "        \"input_size\": int(input_size),\n",
    "        \"out_features\": int(out_features),\n",
    "        \"model_class\": model.__class__.__name__,\n",
    "        \"tag\": tag,\n",
    "    }\n",
    "    if feature_stats is not None:\n",
    "        meta[\"feature_stats\"] = feature_stats\n",
    "    with open(out_dir / \"meta.json\", \"w\", encoding=\"utf-8\") as f:\n",
    "        json.dump(meta, f, indent=2)\n"
   ]
  },
  {
   "cell_type": "code",
   "execution_count": 116,
   "id": "8837648a",
   "metadata": {},
   "outputs": [
    {
     "ename": "KeyError",
     "evalue": "'optimizer'",
     "output_type": "error",
     "traceback": [
      "\u001b[1;31m---------------------------------------------------------------------------\u001b[0m",
      "\u001b[1;31mKeyError\u001b[0m                                  Traceback (most recent call last)",
      "Cell \u001b[1;32mIn[116], line 20\u001b[0m\n\u001b[0;32m     13\u001b[0m     \u001b[38;5;28;01mreturn\u001b[39;00m {\u001b[38;5;124m\"\u001b[39m\u001b[38;5;124mmean\u001b[39m\u001b[38;5;124m\"\u001b[39m: mean, \u001b[38;5;124m\"\u001b[39m\u001b[38;5;124mstd\u001b[39m\u001b[38;5;124m\"\u001b[39m: std}\n\u001b[0;32m     15\u001b[0m feature_stats \u001b[38;5;241m=\u001b[39m compute_feature_stats_from_loader(train_loader)\n\u001b[0;32m     17\u001b[0m save_training_bundle(\n\u001b[0;32m     18\u001b[0m     out_dir\u001b[38;5;241m=\u001b[39mresults[\u001b[38;5;124m\"\u001b[39m\u001b[38;5;124mout_dir\u001b[39m\u001b[38;5;124m\"\u001b[39m],\n\u001b[0;32m     19\u001b[0m     model\u001b[38;5;241m=\u001b[39mmodel,\n\u001b[1;32m---> 20\u001b[0m     optimizer\u001b[38;5;241m=\u001b[39m\u001b[43mresults\u001b[49m\u001b[43m[\u001b[49m\u001b[38;5;124;43m\"\u001b[39;49m\u001b[38;5;124;43moptimizer\u001b[39;49m\u001b[38;5;124;43m\"\u001b[39;49m\u001b[43m]\u001b[49m,\n\u001b[0;32m     21\u001b[0m     scheduler\u001b[38;5;241m=\u001b[39mresults[\u001b[38;5;124m\"\u001b[39m\u001b[38;5;124mscheduler\u001b[39m\u001b[38;5;124m\"\u001b[39m],\n\u001b[0;32m     22\u001b[0m     state\u001b[38;5;241m=\u001b[39mresults[\u001b[38;5;124m\"\u001b[39m\u001b[38;5;124mstate\u001b[39m\u001b[38;5;124m\"\u001b[39m],\n\u001b[0;32m     23\u001b[0m     cfg\u001b[38;5;241m=\u001b[39mcfg,\n\u001b[0;32m     24\u001b[0m     input_size\u001b[38;5;241m=\u001b[39mresults[\u001b[38;5;124m\"\u001b[39m\u001b[38;5;124minput_size\u001b[39m\u001b[38;5;124m\"\u001b[39m],\n\u001b[0;32m     25\u001b[0m     out_features\u001b[38;5;241m=\u001b[39mresults[\u001b[38;5;124m\"\u001b[39m\u001b[38;5;124mout_features\u001b[39m\u001b[38;5;124m\"\u001b[39m],\n\u001b[0;32m     26\u001b[0m     feature_stats\u001b[38;5;241m=\u001b[39mfeature_stats,   \u001b[38;5;66;03m# ou None si inutile\u001b[39;00m\n\u001b[0;32m     27\u001b[0m     tag\u001b[38;5;241m=\u001b[39m\u001b[38;5;124m\"\u001b[39m\u001b[38;5;124mbest\u001b[39m\u001b[38;5;124m\"\u001b[39m\n\u001b[0;32m     28\u001b[0m )\n",
      "\u001b[1;31mKeyError\u001b[0m: 'optimizer'"
     ]
    }
   ],
   "source": [
    "# optionnel: calcule des stats de normalisation si tu en as besoin à l’inférence\n",
    "# (ex: moyenne/écart-type par feature sur le TRAIN)\n",
    "def compute_feature_stats_from_loader(loader):\n",
    "    xs = []\n",
    "    for xb, _ in loader:\n",
    "        xs.append(xb.float())\n",
    "    import torch\n",
    "    X = torch.cat(xs, 0)  # [N,F] ou [N,L,F] -> à toi d’adapter si séquentiel\n",
    "    if X.ndim == 3:  # [N,L,F] : on moyenne sur N et L pour obtenir des stats par feature\n",
    "        X = X.reshape(-1, X.shape[-1])\n",
    "    mean = X.mean(dim=0).tolist()\n",
    "    std  = X.std(dim=0).clamp_min(1e-8).tolist()\n",
    "    return {\"mean\": mean, \"std\": std}\n",
    "\n",
    "feature_stats = compute_feature_stats_from_loader(train_loader)\n",
    "\n",
    "save_training_bundle(\n",
    "    out_dir=results[\"out_dir\"],\n",
    "    model=model,\n",
    "    optimizer=results[\"optimizer\"],\n",
    "    scheduler=results[\"scheduler\"],\n",
    "    state=results[\"state\"],\n",
    "    cfg=cfg,\n",
    "    input_size=results[\"input_size\"],\n",
    "    out_features=results[\"out_features\"],\n",
    "    feature_stats=feature_stats,   # ou None si inutile\n",
    "    tag=\"best\"\n",
    ")\n"
   ]
  },
  {
   "cell_type": "code",
   "execution_count": 117,
   "id": "ca13d601",
   "metadata": {},
   "outputs": [
    {
     "name": "stdout",
     "output_type": "stream",
     "text": [
      "dict_keys(['best_metric', 'out_dir', 'device', 'input_size', 'out_features', 'model_class', 'history', 'total_time_sec'])\n"
     ]
    }
   ],
   "source": [
    "print(results.keys())"
   ]
  },
  {
   "cell_type": "markdown",
   "id": "9a171832",
   "metadata": {},
   "source": [
    "# Rechargement pour inference"
   ]
  },
  {
   "cell_type": "code",
   "execution_count": null,
   "id": "d49f3e36",
   "metadata": {},
   "outputs": [],
   "source": [
    "import json, torch\n",
    "from pathlib import Path\n",
    "\n",
    "def load_for_inference(out_dir: str | Path, build_model_fn, device=\"cpu\", tag=\"best\"):\n",
    "    \"\"\"\n",
    "    - build_model_fn(cfg, input_size, out_features) doit recréer l'architecture\n",
    "      (tu peux lui passer ton TrainConfig rechargé).\n",
    "    \"\"\"\n",
    "    out_dir = Path(out_dir)\n",
    "    device = torch.device(device)\n",
    "\n",
    "    # lire config + meta\n",
    "    with open(out_dir / \"config.json\", \"r\", encoding=\"utf-8\") as f:\n",
    "        cfg = json.load(f)\n",
    "    with open(out_dir / \"meta.json\", \"r\", encoding=\"utf-8\") as f:\n",
    "        meta = json.load(f)\n",
    "\n",
    "    input_size   = meta[\"input_size\"]\n",
    "    out_features = meta[\"out_features\"]\n",
    "    feature_stats = meta.get(\"feature_stats\", None)\n",
    "\n",
    "    # reconstruire le modèle\n",
    "    model = build_model_fn(cfg, input_size, out_features).to(device)\n",
    "    ckpt = torch.load(out_dir / f\"{tag}.pt\", map_location=device)\n",
    "    model.load_state_dict(ckpt[\"model\"])\n",
    "    model.eval()\n",
    "\n",
    "    return model, cfg, meta, feature_stats\n"
   ]
  },
  {
   "cell_type": "code",
   "execution_count": null,
   "id": "14a468e7",
   "metadata": {},
   "outputs": [],
   "source": [
    "def _build_model_from_cfg(cfg, input_size, out_features):\n",
    "    # si cfg est un dict (puisqu’on l’a JSON-isé), adapte aux clés utilisées par build_model\n",
    "    class C: pass\n",
    "    c = C()\n",
    "    for k,v in cfg.items():\n",
    "        setattr(c, k, v)\n",
    "    return build_model(c, input_size, out_features)\n",
    "\n",
    "model_inf, cfg_loaded, meta, feat_stats = load_for_inference(\n",
    "    out_dir=results[\"out_dir\"], build_model_fn=_build_model_from_cfg, device=results[\"device\"], tag=\"best\"\n",
    ")\n"
   ]
  },
  {
   "cell_type": "code",
   "execution_count": null,
   "id": "5d058aa2",
   "metadata": {},
   "outputs": [],
   "source": [
    "import numpy as np\n",
    "\n",
    "def apply_feature_stats(x, stats):\n",
    "    x = np.asarray(x, dtype=np.float32)\n",
    "    mean = np.asarray(stats[\"mean\"], dtype=np.float32)\n",
    "    std  = np.asarray(stats[\"std\"], dtype=np.float32)\n",
    "    return (x - mean) / np.maximum(std, 1e-8)\n"
   ]
  },
  {
   "cell_type": "code",
   "execution_count": null,
   "id": "c0288f19",
   "metadata": {},
   "outputs": [],
   "source": [
    "x0 = X_raw_vector  # ton vecteur brut\n",
    "if feat_stats is not None:\n",
    "    x0 = apply_feature_stats(x0, feat_stats)\n",
    "\n",
    "y_hat = predict_one(model_inf, x0, device=results[\"device\"])\n"
   ]
  },
  {
   "cell_type": "code",
   "execution_count": null,
   "id": "f8324b60",
   "metadata": {},
   "outputs": [],
   "source": []
  },
  {
   "cell_type": "code",
   "execution_count": 100,
   "id": "7d8e7f95",
   "metadata": {},
   "outputs": [
    {
     "data": {
      "image/png": "[encoded data removed]",
      "text/plain": [
       "<Figure size 640x480 with 1 Axes>"
      ]
     },
     "metadata": {},
     "output_type": "display_data"
    }
   ],
   "source": [
    "import torch\n",
    "import matplotlib.pyplot as plt\n",
    "\n",
    "device = torch.device(results[\"device\"])\n",
    "model_ckpt = torch.load(results[\"out_dir\"] + \"/best.pt\", map_location=device)\n",
    "from train_pytorch_customizable_notebook import build_model,notation\n",
    "\n",
    "# reconstruit un modèle de même dimensions :\n",
    "input_size = results[\"input_size\"]; out_features = results[\"out_features\"]\n",
    "model = build_model(cfg, input_size, out_features).to(device)\n",
    "model.load_state_dict(model_ckpt[\"model\"]); model.eval()\n",
    "\n",
    "ys, ps = [], []\n",
    "with torch.no_grad():\n",
    "    for xb, yb in test_loader:\n",
    "        xb = xb.to(device); yb = yb.to(device)\n",
    "        pred = model(xb).view_as(yb)\n",
    "        ys.append(yb.cpu()); ps.append(pred.cpu())\n",
    "y = torch.cat(ys).numpy(); p = torch.cat(ps).numpy()\n",
    "\n",
    "plt.figure()\n",
    "plt.scatter(y, p, s=6)\n",
    "plt.plot([y.min(), y.max()], [y.min(), y.max()])\n",
    "plt.xlabel(\"y_true\"); plt.ylabel(\"y_pred\"); plt.title(\"Validation: y vs ŷ\")\n",
    "plt.show()"
   ]
  },
  {
   "cell_type": "code",
   "execution_count": 101,
   "id": "52558b0c",
   "metadata": {},
   "outputs": [],
   "source": [
    "import torch\n",
    "\n",
    "model.eval()\n",
    "ys, ps = [], []\n",
    "\n",
    "with torch.no_grad():  # pas de gradient en évaluation\n",
    "    for xb, yb in test_loader:      # test_loader = ton DataLoader de test\n",
    "        xb = xb.to(results[\"device\"])   # results[\"device\"] ou device choisi (cpu/cuda)\n",
    "        yb = yb.to(results[\"device\"])\n",
    "        \n",
    "        pred = model(xb)                 # prédiction du modèle\n",
    "        ps.append(pred.view_as(yb).cpu())  # on remet sur CPU et shape comme yb\n",
    "        ys.append(yb.cpu())                # on stocke aussi les vraies valeurs\n",
    "\n",
    "# Concaténer tous les batchs\n",
    "y_true = torch.cat(ys, dim=0)\n",
    "y_pred = torch.cat(ps, dim=0)"
   ]
  },
  {
   "cell_type": "code",
   "execution_count": 102,
   "id": "4ee34046",
   "metadata": {},
   "outputs": [
    {
     "name": "stdout",
     "output_type": "stream",
     "text": [
      "Note calibration: 80.13/100\n"
     ]
    }
   ],
   "source": [
    "note = notation(y_true, y_pred)\n",
    "print(f\"Note calibration: {note:.2f}/100\")"
   ]
  },
  {
   "cell_type": "code",
   "execution_count": 103,
   "id": "a548ea01",
   "metadata": {},
   "outputs": [],
   "source": [
    "def predict_one(model: torch.nn.Module, X, device=\"cpu\"):\n",
    "    \"\"\"\n",
    "    Prédit une valeur y à partir d'un vecteur X avec un modèle PyTorch.\n",
    "\n",
    "    Args:\n",
    "        model : le modèle PyTorch entraîné (déjà chargé avec les bons poids).\n",
    "        X     : features d'entrée (list, numpy.array ou torch.Tensor) shape [F] ou [1,F].\n",
    "        device: \"cpu\" ou \"cuda\" (ou torch.device).\n",
    "\n",
    "    Returns:\n",
    "        y_pred : float ou numpy.array de la prédiction.\n",
    "    \"\"\"\n",
    "    if not isinstance(device, torch.device):\n",
    "        device = torch.device(device)\n",
    "\n",
    "    # convertir en tenseur\n",
    "    if isinstance(X, np.ndarray):\n",
    "        x_tensor = torch.from_numpy(X.astype(np.float32))\n",
    "    elif isinstance(X, list) or isinstance(X, tuple):\n",
    "        x_tensor = torch.tensor(X, dtype=torch.float32)\n",
    "    else:\n",
    "        x_tensor = X.float()\n",
    "\n",
    "    # s'assurer du shape [1,F]\n",
    "    if x_tensor.ndim == 1:\n",
    "        x_tensor = x_tensor.unsqueeze(0)\n",
    "\n",
    "    model.eval()\n",
    "    with torch.no_grad():\n",
    "        x_tensor = x_tensor.to(device)\n",
    "        pred = model(x_tensor)\n",
    "    return pred.cpu().numpy().squeeze()"
   ]
  },
  {
   "cell_type": "code",
   "execution_count": 104,
   "id": "5ec16d31",
   "metadata": {},
   "outputs": [
    {
     "name": "stdout",
     "output_type": "stream",
     "text": [
      "Prédiction : 0.4634035\n"
     ]
    }
   ],
   "source": [
    "# Suppose que tu as un vecteur X_rough[0] (numpy) de la bonne dimension\n",
    "x0 = X_rough[0]   # shape (n_features,)\n",
    "y_hat = predict_one(model, x0, device=results[\"device\"])\n",
    "print(\"Prédiction :\", y_hat)"
   ]
  },
  {
   "cell_type": "code",
   "execution_count": 105,
   "id": "437ddd46",
   "metadata": {},
   "outputs": [],
   "source": [
    "def predict_Option_new(data,model_Option):   \n",
    "    return predict_one(model_Option, data, device=results[\"device\"])"
   ]
  },
  {
   "cell_type": "code",
   "execution_count": 106,
   "id": "aba59f15",
   "metadata": {},
   "outputs": [
    {
     "data": {
      "application/vnd.jupyter.widget-view+json": {
       "model_id": "0bd6fd5a318641f49086c1bf913a6673",
       "version_major": 2,
       "version_minor": 0
      },
      "text/plain": [
       "VBox(children=(VBox(children=(HBox(children=(FloatSlider(value=100.0, continuous_update=False, description='S1…"
      ]
     },
     "metadata": {},
     "output_type": "display_data"
    }
   ],
   "source": [
    "ShowBarsFlag = False\n",
    "PricingInterface(recompute_interface,False,ShowBarsFlag,model).display()"
   ]
  },
  {
   "cell_type": "markdown",
   "id": "d8b01af4",
   "metadata": {},
   "source": [
    "# Rechargement pour reprendre l'entrainement"
   ]
  },
  {
   "cell_type": "code",
   "execution_count": null,
   "id": "48d19b6c",
   "metadata": {},
   "outputs": [],
   "source": [
    "def resume_training(out_dir: str | Path, build_model_fn, device=\"cuda\", tag=\"last\"):\n",
    "    out_dir = Path(out_dir)\n",
    "    device = torch.device(device)\n",
    "\n",
    "    with open(out_dir / \"config.json\", \"r\", encoding=\"utf-8\") as f:\n",
    "        cfg = json.load(f)\n",
    "    with open(out_dir / \"meta.json\", \"r\", encoding=\"utf-8\") as f:\n",
    "        meta = json.load(f)\n",
    "\n",
    "    input_size   = meta[\"input_size\"]\n",
    "    out_features = meta[\"out_features\"]\n",
    "\n",
    "    # reconstruire model / opti / sched\n",
    "    class C: pass\n",
    "    c = C()\n",
    "    for k,v in cfg.items(): setattr(c, k, v)\n",
    "\n",
    "    model = build_model(c, input_size, out_features).to(device)\n",
    "    optimizer = make_optimizer(model.parameters(), c)\n",
    "    scheduler = make_scheduler(optimizer, c)\n",
    "\n",
    "    ckpt = torch.load(Path(out_dir) / f\"{tag}.pt\", map_location=device)\n",
    "    model.load_state_dict(ckpt[\"model\"])\n",
    "    if ckpt.get(\"optimizer\"): optimizer.load_state_dict(ckpt[\"optimizer\"])\n",
    "    if ckpt.get(\"scheduler\"): scheduler.load_state_dict(ckpt[\"scheduler\"])\n",
    "\n",
    "    # TrainState\n",
    "    st_dict = ckpt.get(\"state\", {})\n",
    "    st = TrainState(**st_dict) if isinstance(st_dict, dict) else st_dict\n",
    "\n",
    "    return model, optimizer, scheduler, st, c\n"
   ]
  },
  {
   "cell_type": "code",
   "execution_count": null,
   "id": "83a16bc9",
   "metadata": {},
   "outputs": [],
   "source": [
    "# 1) Recharger ce qu’il faut\n",
    "from pathlib import Path\n",
    "\n",
    "out_dir = Path(\"outputs/run1\")\n",
    "\n",
    "model, optimizer, scheduler, st, cfg_loaded = resume_training(\n",
    "    out_dir=out_dir,\n",
    "    build_model_fn=_build_model_from_cfg,   # wrapper qui recrée ton modèle (vu plus haut)\n",
    "    device=\"cuda\", \n",
    "    tag=\"last\"   # on repart du dernier checkpoint\n",
    ")\n",
    "\n",
    "print(\"Repris à l’époque :\", st.epoch, \" | meilleur score jusqu’ici =\", st.best_metric)\n",
    "\n",
    "# 2) Relancer la boucle d’entraînement\n",
    "device = torch.device(cfg_loaded[\"device\"] if \"device\" in cfg_loaded else \"cuda\")\n",
    "loss_fn = get_loss_fn(cfg_loaded)\n",
    "classification = is_classification(cfg_loaded)\n",
    "\n",
    "max_epochs = 200   # nouveau nombre max total\n",
    "patience   = cfg_loaded.get(\"patience\", 10)\n",
    "no_improve = 0\n",
    "\n",
    "for epoch in range(st.epoch, max_epochs):   # 🔑 on repart de st.epoch\n",
    "    st.epoch = epoch\n",
    "    \n",
    "    # ---------- Train ----------\n",
    "    train_loss, _ = train_one_epoch(model, train_loader, optimizer, loss_fn, device, scaler=None, args=cfg_loaded)\n",
    "    # ---------- Val ----------\n",
    "    val_loss, val_metrics = evaluate(model, val_loader, loss_fn, device, cfg_loaded)\n",
    "\n",
    "    if scheduler is not None:\n",
    "        scheduler.step()\n",
    "\n",
    "    # early stopping metric\n",
    "    metric_name  = \"acc\" if classification else \"rmse\"\n",
    "    metric_value = val_metrics.get(metric_name, -val_loss if classification else val_loss)\n",
    "    improved     = (metric_value > st.best_metric) if classification else (metric_value < st.best_metric)\n",
    "\n",
    "    if improved:\n",
    "        st.best_metric = metric_value\n",
    "        save_checkpoint(out_dir, model, optimizer, scheduler, st, tag=\"best\")\n",
    "        no_improve = 0\n",
    "    else:\n",
    "        no_improve += 1\n",
    "    save_checkpoint(out_dir, model, optimizer, scheduler, st, tag=\"last\")\n",
    "\n",
    "    print(f\"Epoch {epoch+1} | train={train_loss:.4f} | val={val_loss:.4f} | metric={metric_value:.4f}\")\n",
    "\n",
    "    if no_improve >= patience:\n",
    "        print(\"Early stopping déclenché\")\n",
    "        break\n"
   ]
  }
 ],
 "metadata": {
  "kernelspec": {
   "display_name": "Python 3.12",
   "language": "python",
   "name": "python312"
  },
  "language_info": {
   "codemirror_mode": {
    "name": "ipython",
    "version": 3
   },
   "file_extension": ".py",
   "mimetype": "text/x-python",
   "name": "python",
   "nbconvert_exporter": "python",
   "pygments_lexer": "ipython3",
   "version": "3.12.7"
  }
 },
 "nbformat": 4,
 "nbformat_minor": 5
}
